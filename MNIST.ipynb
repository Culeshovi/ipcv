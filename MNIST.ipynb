{
 "cells": [
  {
   "cell_type": "code",
   "execution_count": 1,
   "metadata": {
    "collapsed": true
   },
   "outputs": [],
   "source": [
    "import numpy as np\n",
    "import pandas as pd\n",
    "import matplotlib.pyplot as plt\n",
    "import cv2\n",
    "%matplotlib inline"
   ]
  },
  {
   "cell_type": "code",
   "execution_count": 2,
   "metadata": {
    "collapsed": true
   },
   "outputs": [],
   "source": [
    "df = pd.read_csv('train.csv')"
   ]
  },
  {
   "cell_type": "code",
   "execution_count": 218,
   "metadata": {},
   "outputs": [
    {
     "name": "stdout",
     "output_type": "stream",
     "text": [
      "Number of 0 is 4132\n",
      "Number of 1 is 4684\n",
      "Number of 2 is 4177\n",
      "Number of 3 is 4351\n",
      "Number of 4 is 4072\n",
      "Number of 5 is 3795\n",
      "Number of 6 is 4137\n",
      "Number of 7 is 4401\n",
      "Number of 8 is 4063\n",
      "Number of 9 is 4188\n"
     ]
    }
   ],
   "source": [
    "for i in range(10):\n",
    "    num = df[df['label'] == i].shape[0]\n",
    "    print('Number of {} is {}'.format(i,num))"
   ]
  },
  {
   "cell_type": "code",
   "execution_count": 219,
   "metadata": {
    "collapsed": true
   },
   "outputs": [],
   "source": [
    "def getmask(df, number, verbose=False):\n",
    "    label = df[df['label'] == number].reset_index(drop=True)\n",
    "    l = []\n",
    "    for i in range(len(label)):\n",
    "        l.append(label.iloc[i].drop('label').values.reshape(28,28))\n",
    "    l = np.array(l)\n",
    "    if verbose == True:\n",
    "        print('Shape of array=', l.shape)\n",
    "    r = np.zeros((28,28))\n",
    "    for i in range(len(l)):\n",
    "        r = r + l[i]\n",
    "    r = (r / len(l))\n",
    "    \n",
    "    return r"
   ]
  },
  {
   "cell_type": "code",
   "execution_count": 220,
   "metadata": {},
   "outputs": [],
   "source": [
    "mask = []\n",
    "for i in range(0,10):\n",
    "    mask.append(getmask(df, i))\n"
   ]
  },
  {
   "cell_type": "code",
   "execution_count": 45,
   "metadata": {},
   "outputs": [
    {
     "data": {
      "image/png": "[encoded data removed]",
      "text/plain": [
       "<matplotlib.figure.Figure at 0x26190b769b0>"
      ]
     },
     "metadata": {},
     "output_type": "display_data"
    }
   ],
   "source": [
    "fig, ax = plt.subplots(nrows=2, ncols=5, figsize=(10,8))\n",
    "i = 0\n",
    "for row in ax:\n",
    "    for col in row:\n",
    "        if i<10:\n",
    "            col.imshow(mask[i], cmap='gray')\n",
    "        i = i + 1\n",
    "        \n",
    "mask = np.array(mask)"
   ]
  },
  {
   "cell_type": "code",
   "execution_count": 164,
   "metadata": {
    "collapsed": true
   },
   "outputs": [],
   "source": [
    "def getlabel(record):\n",
    "    a=[]\n",
    "    record = record.values.reshape(28,28)\n",
    "    for msk in mask:\n",
    "        r = msk * record\n",
    "        a.append(r.sum())\n",
    "    \n",
    "    a = np.array(a)\n",
    "    return a.argmax()\n",
    "        "
   ]
  },
  {
   "cell_type": "code",
   "execution_count": null,
   "metadata": {
    "collapsed": true
   },
   "outputs": [],
   "source": [
    "test_df = pd.read_csv('test.csv')"
   ]
  },
  {
   "cell_type": "code",
   "execution_count": 248,
   "metadata": {},
   "outputs": [
    {
     "name": "stdout",
     "output_type": "stream",
     "text": [
      "Predicted = 6\n"
     ]
    },
    {
     "data": {
      "image/png": "[encoded data removed]",
      "text/plain": [
       "<matplotlib.figure.Figure at 0x26192f1eda0>"
      ]
     },
     "metadata": {},
     "output_type": "display_data"
    }
   ],
   "source": [
    "value = 19999\n",
    "\n",
    "plt.imshow(test_df.iloc[value].values.reshape(28,28), cmap='gray')\n",
    "print('Predicted =',getlabel(test_df.iloc[value]))"
   ]
  },
  {
   "cell_type": "code",
   "execution_count": null,
   "metadata": {
    "collapsed": true
   },
   "outputs": [],
   "source": []
  }
 ],
 "metadata": {
  "kernelspec": {
   "display_name": "Python 3",
   "language": "python",
   "name": "python3"
  },
  "language_info": {
   "codemirror_mode": {
    "name": "ipython",
    "version": 3
   },
   "file_extension": ".py",
   "mimetype": "text/x-python",
   "name": "python",
   "nbconvert_exporter": "python",
   "pygments_lexer": "ipython3",
   "version": "3.5.4"
  }
 },
 "nbformat": 4,
 "nbformat_minor": 2
}
